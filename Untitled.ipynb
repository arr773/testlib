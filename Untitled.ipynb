{
 "cells": [
  {
   "cell_type": "code",
   "execution_count": 7,
   "id": "167e295b",
   "metadata": {},
   "outputs": [
    {
     "name": "stdout",
     "output_type": "stream",
     "text": [
      "Requirement already satisfied: mediumvers123 in c:\\users\\aaryan agarwal\\anaconda3\\lib\\site-packages (0.1.0)\n",
      "Requirement already satisfied: numpy in c:\\users\\aaryan agarwal\\anaconda3\\lib\\site-packages (from mediumvers123) (1.24.3)\n"
     ]
    }
   ],
   "source": [
    "!pip install mediumvers123"
   ]
  },
  {
   "cell_type": "code",
   "execution_count": 8,
   "id": "c0dc43e8",
   "metadata": {},
   "outputs": [],
   "source": [
    "import mediumvers123\n",
    "from mediumvers123.medium_multi.stats import reportgeneration\n",
    "import pandas as pd"
   ]
  },
  {
   "cell_type": "code",
   "execution_count": 9,
   "id": "ee0a5146",
   "metadata": {},
   "outputs": [
    {
     "name": "stdout",
     "output_type": "stream",
     "text": [
      "Enter User Name: Aaryan Agarwal\n",
      "Enter the Tool Used for Synthetic Data Generation: Gretel\n",
      "\u001b[1;4mAll Categorical Variables:\u001b[0m\n",
      "\u001b[1;4mIndependent Continuous Variables:\u001b[0m\n"
     ]
    },
    {
     "data": {
      "text/plain": [
       "<Figure size 800x500 with 0 Axes>"
      ]
     },
     "metadata": {},
     "output_type": "display_data"
    },
    {
     "data": {
      "text/plain": [
       "<Figure size 500x300 with 0 Axes>"
      ]
     },
     "metadata": {},
     "output_type": "display_data"
    },
    {
     "data": {
      "text/plain": [
       "<Figure size 500x300 with 0 Axes>"
      ]
     },
     "metadata": {},
     "output_type": "display_data"
    }
   ],
   "source": [
    "real_data = pd.read_csv(\"titanic_train.csv\")\n",
    "synthetic_data = pd.read_csv('gretel_titanic_data.csv')\n",
    "output=\"test.pdf\"\n",
    "report=reportgeneration(real_data,synthetic_data)\n",
    "user_name = input(\"Enter User Name: \")\n",
    "tool_used = input(\"Enter the Tool Used for Synthetic Data Generation: \")\n",
    "report.create_pdf_report(output,user_name,tool_used)"
   ]
  },
  {
   "cell_type": "code",
   "execution_count": null,
   "id": "cdbe21c4",
   "metadata": {},
   "outputs": [],
   "source": []
  }
 ],
 "metadata": {
  "kernelspec": {
   "display_name": "Python 3 (ipykernel)",
   "language": "python",
   "name": "python3"
  },
  "language_info": {
   "codemirror_mode": {
    "name": "ipython",
    "version": 3
   },
   "file_extension": ".py",
   "mimetype": "text/x-python",
   "name": "python",
   "nbconvert_exporter": "python",
   "pygments_lexer": "ipython3",
   "version": "3.9.13"
  }
 },
 "nbformat": 4,
 "nbformat_minor": 5
}
